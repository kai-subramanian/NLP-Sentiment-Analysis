{
 "cells": [
  {
   "cell_type": "code",
   "execution_count": 2,
   "id": "d48a5465",
   "metadata": {},
   "outputs": [
    {
     "name": "stdout",
     "output_type": "stream",
     "text": [
      "Collecting pandas_datareader\n",
      "  Downloading pandas_datareader-0.10.0-py3-none-any.whl (109 kB)\n",
      "Requirement already satisfied: lxml in c:\\users\\balaji\\appdata\\local\\programs\\python\\python39\\lib\\site-packages (from pandas_datareader) (4.6.3)\n",
      "Requirement already satisfied: requests>=2.19.0 in c:\\users\\balaji\\appdata\\local\\programs\\python\\python39\\lib\\site-packages (from pandas_datareader) (2.26.0)\n",
      "Requirement already satisfied: pandas>=0.23 in c:\\users\\balaji\\appdata\\local\\programs\\python\\python39\\lib\\site-packages (from pandas_datareader) (1.2.4)\n",
      "Requirement already satisfied: pytz>=2017.3 in c:\\users\\balaji\\appdata\\local\\programs\\python\\python39\\lib\\site-packages (from pandas>=0.23->pandas_datareader) (2021.1)\n",
      "Requirement already satisfied: python-dateutil>=2.7.3 in c:\\users\\balaji\\appdata\\local\\programs\\python\\python39\\lib\\site-packages (from pandas>=0.23->pandas_datareader) (2.8.1)\n",
      "Requirement already satisfied: numpy>=1.16.5 in c:\\users\\balaji\\appdata\\local\\programs\\python\\python39\\lib\\site-packages (from pandas>=0.23->pandas_datareader) (1.19.5)\n",
      "Requirement already satisfied: six>=1.5 in c:\\users\\balaji\\appdata\\local\\programs\\python\\python39\\lib\\site-packages (from python-dateutil>=2.7.3->pandas>=0.23->pandas_datareader) (1.15.0)\n",
      "Requirement already satisfied: idna<4,>=2.5 in c:\\users\\balaji\\appdata\\local\\programs\\python\\python39\\lib\\site-packages (from requests>=2.19.0->pandas_datareader) (3.2)\n",
      "Requirement already satisfied: charset-normalizer~=2.0.0 in c:\\users\\balaji\\appdata\\local\\programs\\python\\python39\\lib\\site-packages (from requests>=2.19.0->pandas_datareader) (2.0.3)\n",
      "Requirement already satisfied: urllib3<1.27,>=1.21.1 in c:\\users\\balaji\\appdata\\local\\programs\\python\\python39\\lib\\site-packages (from requests>=2.19.0->pandas_datareader) (1.26.5)\n",
      "Requirement already satisfied: certifi>=2017.4.17 in c:\\users\\balaji\\appdata\\local\\programs\\python\\python39\\lib\\site-packages (from requests>=2.19.0->pandas_datareader) (2021.5.30)\n",
      "Installing collected packages: pandas-datareader\n",
      "Successfully installed pandas-datareader-0.10.0\n",
      "Note: you may need to restart the kernel to use updated packages.\n"
     ]
    },
    {
     "name": "stderr",
     "output_type": "stream",
     "text": [
      "WARNING: You are using pip version 21.2.4; however, version 21.3.1 is available.\n",
      "You should consider upgrading via the 'c:\\users\\balaji\\appdata\\local\\programs\\python\\python39\\python.exe -m pip install --upgrade pip' command.\n"
     ]
    }
   ],
   "source": [
    "pip install pandas_datareader"
   ]
  },
  {
   "cell_type": "code",
   "execution_count": 24,
   "id": "12eca338",
   "metadata": {},
   "outputs": [
    {
     "name": "stdout",
     "output_type": "stream",
     "text": [
      "Collecting alpha_vantage\n",
      "  Downloading alpha_vantage-2.3.1-py3-none-any.whl (31 kB)\n",
      "Requirement already satisfied: requests in c:\\users\\balaji\\appdata\\local\\programs\\python\\python39\\lib\\site-packages (from alpha_vantage) (2.26.0)\n",
      "Collecting aiohttp\n",
      "  Downloading aiohttp-3.8.1-cp39-cp39-win_amd64.whl (554 kB)\n",
      "Collecting async-timeout<5.0,>=4.0.0a3\n",
      "  Downloading async_timeout-4.0.1-py3-none-any.whl (5.7 kB)\n",
      "Collecting frozenlist>=1.1.1\n",
      "  Downloading frozenlist-1.2.0-cp39-cp39-win_amd64.whl (83 kB)\n",
      "Requirement already satisfied: charset-normalizer<3.0,>=2.0 in c:\\users\\balaji\\appdata\\local\\programs\\python\\python39\\lib\\site-packages (from aiohttp->alpha_vantage) (2.0.3)\n",
      "Requirement already satisfied: attrs>=17.3.0 in c:\\users\\balaji\\appdata\\local\\programs\\python\\python39\\lib\\site-packages (from aiohttp->alpha_vantage) (20.3.0)\n",
      "Collecting multidict<7.0,>=4.5\n",
      "  Downloading multidict-5.2.0-cp39-cp39-win_amd64.whl (45 kB)\n",
      "Collecting aiosignal>=1.1.2\n",
      "  Downloading aiosignal-1.2.0-py3-none-any.whl (8.2 kB)\n",
      "Collecting yarl<2.0,>=1.0\n",
      "  Downloading yarl-1.7.2-cp39-cp39-win_amd64.whl (122 kB)\n",
      "Requirement already satisfied: typing-extensions>=3.6.5 in c:\\users\\balaji\\appdata\\local\\programs\\python\\python39\\lib\\site-packages (from async-timeout<5.0,>=4.0.0a3->aiohttp->alpha_vantage) (3.10.0.0)\n",
      "Requirement already satisfied: idna>=2.0 in c:\\users\\balaji\\appdata\\local\\programs\\python\\python39\\lib\\site-packages (from yarl<2.0,>=1.0->aiohttp->alpha_vantage) (3.2)\n",
      "Requirement already satisfied: urllib3<1.27,>=1.21.1 in c:\\users\\balaji\\appdata\\local\\programs\\python\\python39\\lib\\site-packages (from requests->alpha_vantage) (1.26.5)\n",
      "Requirement already satisfied: certifi>=2017.4.17 in c:\\users\\balaji\\appdata\\local\\programs\\python\\python39\\lib\\site-packages (from requests->alpha_vantage) (2021.5.30)\n",
      "Installing collected packages: multidict, frozenlist, yarl, async-timeout, aiosignal, aiohttp, alpha-vantage\n",
      "Successfully installed aiohttp-3.8.1 aiosignal-1.2.0 alpha-vantage-2.3.1 async-timeout-4.0.1 frozenlist-1.2.0 multidict-5.2.0 yarl-1.7.2\n",
      "Note: you may need to restart the kernel to use updated packages.\n"
     ]
    },
    {
     "name": "stderr",
     "output_type": "stream",
     "text": [
      "WARNING: You are using pip version 21.2.4; however, version 21.3.1 is available.\n",
      "You should consider upgrading via the 'c:\\users\\balaji\\appdata\\local\\programs\\python\\python39\\python.exe -m pip install --upgrade pip' command.\n"
     ]
    }
   ],
   "source": [
    "pip install alpha_vantage"
   ]
  },
  {
   "cell_type": "code",
   "execution_count": 36,
   "id": "722103a9",
   "metadata": {},
   "outputs": [],
   "source": [
    "import pandas as pd\n",
    "import pandas_datareader as pdr\n",
    "from pandas import json_normalize\n",
    "from alpha_vantage.timeseries import TimeSeries"
   ]
  },
  {
   "cell_type": "code",
   "execution_count": 5,
   "id": "6388cbdb",
   "metadata": {},
   "outputs": [
    {
     "data": {
      "text/plain": [
       "<AxesSubplot:>"
      ]
     },
     "execution_count": 5,
     "metadata": {},
     "output_type": "execute_result"
    },
    {
     "data": {
      "image/png": "[encoded data removed]",
      "text/plain": [
       "<Figure size 432x288 with 1 Axes>"
      ]
     },
     "metadata": {
      "needs_background": "light"
     },
     "output_type": "display_data"
    }
   ],
   "source": [
    "# Using pandas datareader\n",
    "ts = pdr.av.time_series.AVTimeSeriesReader('IBM', api_key='TUF79IP450LS0DSM')\n",
    "df = ts.read()\n",
    "df.index = pd.to_datetime(df.index, format='%Y-%m-%d')\n",
    "df[['open','close']].plot()"
   ]
  },
  {
   "cell_type": "code",
   "execution_count": 8,
   "id": "5be2d75a",
   "metadata": {},
   "outputs": [
    {
     "data": {
      "text/html": [
       "<div>\n",
       "<style scoped>\n",
       "    .dataframe tbody tr th:only-of-type {\n",
       "        vertical-align: middle;\n",
       "    }\n",
       "\n",
       "    .dataframe tbody tr th {\n",
       "        vertical-align: top;\n",
       "    }\n",
       "\n",
       "    .dataframe thead th {\n",
       "        text-align: right;\n",
       "    }\n",
       "</style>\n",
       "<table border=\"1\" class=\"dataframe\">\n",
       "  <thead>\n",
       "    <tr style=\"text-align: right;\">\n",
       "      <th></th>\n",
       "      <th>open</th>\n",
       "      <th>close</th>\n",
       "    </tr>\n",
       "  </thead>\n",
       "  <tbody>\n",
       "    <tr>\n",
       "      <th>2021-11-26</th>\n",
       "      <td>115.0</td>\n",
       "      <td>115.81</td>\n",
       "    </tr>\n",
       "  </tbody>\n",
       "</table>\n",
       "</div>"
      ],
      "text/plain": [
       "             open   close\n",
       "2021-11-26  115.0  115.81"
      ]
     },
     "execution_count": 8,
     "metadata": {},
     "output_type": "execute_result"
    }
   ],
   "source": [
    "df[['open','close']].tail(1)"
   ]
  },
  {
   "cell_type": "code",
   "execution_count": 26,
   "id": "cdde2bef",
   "metadata": {},
   "outputs": [],
   "source": [
    "# Using alphavantage library\n",
    "api_key = 'TUF79IP450LS0DSM'"
   ]
  },
  {
   "cell_type": "code",
   "execution_count": 27,
   "id": "abd3bef7",
   "metadata": {},
   "outputs": [],
   "source": [
    "ts = TimeSeries(key = api_key, output_format= 'pandas')"
   ]
  },
  {
   "cell_type": "code",
   "execution_count": 28,
   "id": "524d1a8e",
   "metadata": {},
   "outputs": [
    {
     "data": {
      "text/html": [
       "<div>\n",
       "<style scoped>\n",
       "    .dataframe tbody tr th:only-of-type {\n",
       "        vertical-align: middle;\n",
       "    }\n",
       "\n",
       "    .dataframe tbody tr th {\n",
       "        vertical-align: top;\n",
       "    }\n",
       "\n",
       "    .dataframe thead th {\n",
       "        text-align: right;\n",
       "    }\n",
       "</style>\n",
       "<table border=\"1\" class=\"dataframe\">\n",
       "  <thead>\n",
       "    <tr style=\"text-align: right;\">\n",
       "      <th></th>\n",
       "      <th>1. open</th>\n",
       "      <th>2. high</th>\n",
       "      <th>3. low</th>\n",
       "      <th>4. close</th>\n",
       "      <th>5. volume</th>\n",
       "    </tr>\n",
       "    <tr>\n",
       "      <th>date</th>\n",
       "      <th></th>\n",
       "      <th></th>\n",
       "      <th></th>\n",
       "      <th></th>\n",
       "      <th></th>\n",
       "    </tr>\n",
       "  </thead>\n",
       "  <tbody>\n",
       "    <tr>\n",
       "      <th>2021-11-26</th>\n",
       "      <td>159.565</td>\n",
       "      <td>160.45</td>\n",
       "      <td>156.3600</td>\n",
       "      <td>156.81</td>\n",
       "      <td>76959752.0</td>\n",
       "    </tr>\n",
       "    <tr>\n",
       "      <th>2021-11-24</th>\n",
       "      <td>160.750</td>\n",
       "      <td>162.14</td>\n",
       "      <td>159.6400</td>\n",
       "      <td>161.94</td>\n",
       "      <td>69463623.0</td>\n",
       "    </tr>\n",
       "    <tr>\n",
       "      <th>2021-11-23</th>\n",
       "      <td>161.120</td>\n",
       "      <td>161.80</td>\n",
       "      <td>159.0601</td>\n",
       "      <td>161.41</td>\n",
       "      <td>96041899.0</td>\n",
       "    </tr>\n",
       "    <tr>\n",
       "      <th>2021-11-22</th>\n",
       "      <td>161.680</td>\n",
       "      <td>165.70</td>\n",
       "      <td>161.0000</td>\n",
       "      <td>161.02</td>\n",
       "      <td>117467889.0</td>\n",
       "    </tr>\n",
       "    <tr>\n",
       "      <th>2021-11-19</th>\n",
       "      <td>157.650</td>\n",
       "      <td>161.02</td>\n",
       "      <td>156.5328</td>\n",
       "      <td>160.55</td>\n",
       "      <td>117305597.0</td>\n",
       "    </tr>\n",
       "    <tr>\n",
       "      <th>...</th>\n",
       "      <td>...</td>\n",
       "      <td>...</td>\n",
       "      <td>...</td>\n",
       "      <td>...</td>\n",
       "      <td>...</td>\n",
       "    </tr>\n",
       "    <tr>\n",
       "      <th>2021-07-14</th>\n",
       "      <td>148.100</td>\n",
       "      <td>149.57</td>\n",
       "      <td>147.6800</td>\n",
       "      <td>149.15</td>\n",
       "      <td>127050785.0</td>\n",
       "    </tr>\n",
       "    <tr>\n",
       "      <th>2021-07-13</th>\n",
       "      <td>144.030</td>\n",
       "      <td>147.46</td>\n",
       "      <td>143.6300</td>\n",
       "      <td>145.64</td>\n",
       "      <td>100827099.0</td>\n",
       "    </tr>\n",
       "    <tr>\n",
       "      <th>2021-07-12</th>\n",
       "      <td>146.210</td>\n",
       "      <td>146.32</td>\n",
       "      <td>144.0000</td>\n",
       "      <td>144.50</td>\n",
       "      <td>76299719.0</td>\n",
       "    </tr>\n",
       "    <tr>\n",
       "      <th>2021-07-09</th>\n",
       "      <td>142.750</td>\n",
       "      <td>145.65</td>\n",
       "      <td>142.6522</td>\n",
       "      <td>145.11</td>\n",
       "      <td>99890800.0</td>\n",
       "    </tr>\n",
       "    <tr>\n",
       "      <th>2021-07-08</th>\n",
       "      <td>141.580</td>\n",
       "      <td>144.06</td>\n",
       "      <td>140.6650</td>\n",
       "      <td>143.24</td>\n",
       "      <td>105575458.0</td>\n",
       "    </tr>\n",
       "  </tbody>\n",
       "</table>\n",
       "<p>100 rows × 5 columns</p>\n",
       "</div>"
      ],
      "text/plain": [
       "            1. open  2. high    3. low  4. close    5. volume\n",
       "date                                                         \n",
       "2021-11-26  159.565   160.45  156.3600    156.81   76959752.0\n",
       "2021-11-24  160.750   162.14  159.6400    161.94   69463623.0\n",
       "2021-11-23  161.120   161.80  159.0601    161.41   96041899.0\n",
       "2021-11-22  161.680   165.70  161.0000    161.02  117467889.0\n",
       "2021-11-19  157.650   161.02  156.5328    160.55  117305597.0\n",
       "...             ...      ...       ...       ...          ...\n",
       "2021-07-14  148.100   149.57  147.6800    149.15  127050785.0\n",
       "2021-07-13  144.030   147.46  143.6300    145.64  100827099.0\n",
       "2021-07-12  146.210   146.32  144.0000    144.50   76299719.0\n",
       "2021-07-09  142.750   145.65  142.6522    145.11   99890800.0\n",
       "2021-07-08  141.580   144.06  140.6650    143.24  105575458.0\n",
       "\n",
       "[100 rows x 5 columns]"
      ]
     },
     "execution_count": 28,
     "metadata": {},
     "output_type": "execute_result"
    }
   ],
   "source": [
    "data = ts.get_daily('AAPL')\n",
    "data[0]"
   ]
  },
  {
   "cell_type": "code",
   "execution_count": null,
   "id": "4185b83c",
   "metadata": {},
   "outputs": [],
   "source": []
  }
 ],
 "metadata": {
  "kernelspec": {
   "display_name": "Python 3",
   "language": "python",
   "name": "python3"
  },
  "language_info": {
   "codemirror_mode": {
    "name": "ipython",
    "version": 3
   },
   "file_extension": ".py",
   "mimetype": "text/x-python",
   "name": "python",
   "nbconvert_exporter": "python",
   "pygments_lexer": "ipython3",
   "version": "3.9.2"
  }
 },
 "nbformat": 4,
 "nbformat_minor": 5
}
